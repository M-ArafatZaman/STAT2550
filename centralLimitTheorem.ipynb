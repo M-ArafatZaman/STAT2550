{
 "cells": [
  {
   "cell_type": "markdown",
   "id": "058b77dd",
   "metadata": {},
   "source": [
    "### Central Limit Theorem\n",
    "The Central Limit Theorem states that if $n$ independently and identically distributed random variables are sampled, as $n \\to \\infty$, the distribution of the sample mean of the random variables is normally distributed.\n",
    "\n",
    "**Inspired by:** [But what is the Central Limit Theorem? - 3Blue1Brown](https://youtu.be/zeJD6dqJ5lo])"
   ]
  },
  {
   "cell_type": "code",
   "execution_count": null,
   "id": "ac57fa2d",
   "metadata": {},
   "outputs": [],
   "source": []
  }
 ],
 "metadata": {
  "kernelspec": {
   "display_name": "Python 3 (ipykernel)",
   "language": "python",
   "name": "python3"
  },
  "language_info": {
   "codemirror_mode": {
    "name": "ipython",
    "version": 3
   },
   "file_extension": ".py",
   "mimetype": "text/x-python",
   "name": "python",
   "nbconvert_exporter": "python",
   "pygments_lexer": "ipython3",
   "version": "3.10.6"
  }
 },
 "nbformat": 4,
 "nbformat_minor": 5
}
