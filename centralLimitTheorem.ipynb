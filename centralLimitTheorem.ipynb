{
 "cells": [
  {
   "cell_type": "markdown",
   "id": "058b77dd",
   "metadata": {},
   "source": [
    "### Central Limit Theorem\n",
    "The Central Limit Theorem states that if $n$ independently and identically distributed random variables are sampled, as $n \\to \\infty$, the distribution of the sample mean of the random variables is normally distributed.\n",
    "\n",
    "**Inspired by:** [But what is the Central Limit Theorem? - 3Blue1Brown](https://youtu.be/zeJD6dqJ5lo])"
   ]
  },
  {
   "cell_type": "code",
   "execution_count": 8,
   "id": "ac57fa2d",
   "metadata": {},
   "outputs": [],
   "source": [
    "import matplotlib.pyplot as plt\n",
    "import random\n",
    "import math\n",
    "\n",
    "DICE_MIN = 1\n",
    "DICE_MAX = 6\n",
    "DICE_PROB = 1/6"
   ]
  },
  {
   "cell_type": "markdown",
   "id": "df43602e",
   "metadata": {},
   "source": [
    "We start by defining some functions about the dice."
   ]
  },
  {
   "cell_type": "code",
   "execution_count": 9,
   "id": "7704f7fd",
   "metadata": {},
   "outputs": [],
   "source": [
    "# A function that returns a dice number with unweighted odds\n",
    "def dice():\n",
    "    return math.floor( random.uniform(0,5) ) + 1\n",
    "\n",
    "# A dice distribution function\n",
    "def diceDistribution(x):\n",
    "    if x >= DICE_MIN and x <= DICE_MAX: return DICE_PROB\n",
    "    return 0\n"
   ]
  },
  {
   "cell_type": "code",
   "execution_count": 11,
   "id": "d9bd664c",
   "metadata": {},
   "outputs": [
    {
     "data": {
      "image/png": "[encoded data removed]",
      "text/plain": [
       "<Figure size 640x480 with 1 Axes>"
      ]
     },
     "metadata": {},
     "output_type": "display_data"
    }
   ],
   "source": [
    "x = [i for i in range(DICE_MIN, DICE_MAX+1)]\n",
    "y = [diceDistribution(i) for i in range(DICE_MIN, DICE_MAX+1)]\n",
    "\n",
    "ax = plt.gca()\n",
    "ax.bar(x, y)\n",
    "ax.set_ylabel(\"Probability\")\n",
    "ax.set_title(\"Probability distribution function for a dice.\")\n",
    "ax.set_ylim([0,1])\n",
    "plt.show()"
   ]
  },
  {
   "cell_type": "markdown",
   "id": "1fa690c6",
   "metadata": {},
   "source": [
    "We will let $X$ be a random variable following the dice distribution, which is a discrete distribution.\n",
    "\n",
    "We will now try to compute a distribution for $X_{1} + X_{2}$\n",
    "\n",
    "We will call it `dd2`, as an abbreviation for dice distribution 2. The integer 2 here indicates that its a sum of 2 random variables.\n",
    "\n"
   ]
  },
  {
   "cell_type": "code",
   "execution_count": 33,
   "id": "060fa1e7",
   "metadata": {},
   "outputs": [
    {
     "name": "stdout",
     "output_type": "stream",
     "text": [
      "[1, 2, 3, 4, 5, 6]\n",
      "[6, 5, 4, 3, 2, 1]\n",
      "Test\n",
      "2 0.027777777777777776\n",
      "3 0.027777777777777776\n",
      "4 0.027777777777777776\n",
      "5 0.027777777777777776\n",
      "6 0.027777777777777776\n",
      "7 0.027777777777777776\n",
      "8 0.8333333333333333\n",
      "9 0.6666666666666665\n",
      "10 0.4999999999999999\n",
      "11 0.33333333333333326\n",
      "12 0.16666666666666663\n"
     ]
    }
   ],
   "source": [
    "def dd2(x):\n",
    "    dd2_min = 2 * DICE_MIN\n",
    "    dd2_max = 2 * DICE_MAX\n",
    "    x1_domain = [i for i in range(DICE_MIN, DICE_MAX+1)]\n",
    "    x2_domain = [i for i in range(DICE_MIN, DICE_MAX+1)]\n",
    "    # Calculating the cumulative distribution is like calculating a prefix sum\n",
    "    x1_cd = [diceDistribution(DICE_MIN)]\n",
    "    x2_cd = [diceDistribution(DICE_MIN)]\n",
    "    for i in range(DICE_MIN, DICE_MAX):\n",
    "        cd = diceDistribution(i) + x1_cd[i-1]\n",
    "        x1_cd.append(cd)\n",
    "        x2_cd.append(cd)\n",
    "    # Flip x2 as part of the convolution process\n",
    "    x2_domain = x2_domain[::-1]\n",
    "    x2_cd = x2_cd[::-1]\n",
    "    \n",
    "    x3_domain = []\n",
    "    x3_prob = []\n",
    "    # Keep track of pointers for the x2 domain\n",
    "    end = 0\n",
    "    start = 0 - DICE_MAX + 1\n",
    "    print(x1_domain)\n",
    "    print(x2_domain)\n",
    "    # The convolution process\n",
    "    # Pxy = Px * Py\n",
    "    while start <= 5:\n",
    "        start_overlap = max(start, DICE_MIN-1)\n",
    "        end_overlap = min(end, DICE_MAX-1)\n",
    "        value = 0\n",
    "        if end <= DICE_MAX -1:\n",
    "            value = x1_domain[end_overlap] + x2_domain[-1]            \n",
    "        elif start <= DICE_MAX -1:\n",
    "            value = x1_domain[start_overlap] + x2_domain[0]\n",
    "        #prob = (x1_cd[end_overlap] - x1_cd[start_overlap]) + (x2_cd[-start_overlap] - x2_cd[-end_overlap])\n",
    "        #print(value, prob)\n",
    "        if start_overlap == 0 and end_overlap == 0:\n",
    "            prob = diceDistribution(1)*diceDistribution(1)\n",
    "        elif start_overlap > 0:\n",
    "            prob = (x1_cd[end_overlap]-x1_cd[start_overlap-1])\n",
    "        print(value, prob)\n",
    "            \n",
    "        start += 1\n",
    "        end += 1\n",
    "        \n",
    "        \n",
    "dd2(1)"
   ]
  },
  {
   "cell_type": "code",
   "execution_count": null,
   "id": "73e52d67",
   "metadata": {},
   "outputs": [],
   "source": []
  }
 ],
 "metadata": {
  "kernelspec": {
   "display_name": "Python 3 (ipykernel)",
   "language": "python",
   "name": "python3"
  },
  "language_info": {
   "codemirror_mode": {
    "name": "ipython",
    "version": 3
   },
   "file_extension": ".py",
   "mimetype": "text/x-python",
   "name": "python",
   "nbconvert_exporter": "python",
   "pygments_lexer": "ipython3",
   "version": "3.10.6"
  }
 },
 "nbformat": 4,
 "nbformat_minor": 5
}
