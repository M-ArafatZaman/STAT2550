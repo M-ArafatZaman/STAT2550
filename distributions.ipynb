{
 "cells": [
  {
   "cell_type": "code",
   "execution_count": 31,
   "id": "9583bab8",
   "metadata": {},
   "outputs": [],
   "source": [
    "import random\n",
    "\n",
    "# A function to get a discrete random distribution for a random variable\n",
    "def randomDistribution(start, end):\n",
    "    # The distribution function\n",
    "    _dist = {}\n",
    "    total = 0\n",
    "    for i in range(start, end):\n",
    "        gen = random.uniform(0, 1-total)\n",
    "        if gen >= (1-total) or gen < 0:\n",
    "            gen = random.uniform(0, 1-total)\n",
    "        total += gen\n",
    "        _dist[i] = gen\n",
    "    # Add in the final one\n",
    "    _dist[end] = 1-total\n",
    "        \n",
    "    def dist(x):\n",
    "        if x < start or x > end:\n",
    "            return 0\n",
    "        return _dist[x]\n",
    "    \n",
    "    return dist"
   ]
  },
  {
   "cell_type": "code",
   "execution_count": 30,
   "id": "002b300b",
   "metadata": {},
   "outputs": [
    {
     "data": {
      "image/png": "[encoded data removed]",
      "text/plain": [
       "<Figure size 640x480 with 1 Axes>"
      ]
     },
     "metadata": {},
     "output_type": "display_data"
    }
   ],
   "source": [
    "import matplotlib.pyplot as plt\n",
    "\n",
    "fn = randomDistribution(0,3)\n",
    "x = [i for i in range(0,4)]\n",
    "y = [fn(i) for i in range(0,4)]\n",
    "\n",
    "plt.bar(x, y)\n",
    "plt.show()"
   ]
  },
  {
   "cell_type": "code",
   "execution_count": null,
   "id": "6219848a",
   "metadata": {},
   "outputs": [],
   "source": []
  }
 ],
 "metadata": {
  "kernelspec": {
   "display_name": "Python 3 (ipykernel)",
   "language": "python",
   "name": "python3"
  },
  "language_info": {
   "codemirror_mode": {
    "name": "ipython",
    "version": 3
   },
   "file_extension": ".py",
   "mimetype": "text/x-python",
   "name": "python",
   "nbconvert_exporter": "python",
   "pygments_lexer": "ipython3",
   "version": "3.10.6"
  }
 },
 "nbformat": 4,
 "nbformat_minor": 5
}
