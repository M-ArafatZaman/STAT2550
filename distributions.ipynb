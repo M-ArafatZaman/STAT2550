{
 "cells": [
  {
   "cell_type": "code",
   "execution_count": 27,
   "id": "9583bab8",
   "metadata": {},
   "outputs": [],
   "source": [
    "import random\n",
    "\n",
    "# A function to get a discrete random distribution for a random variable\n",
    "def randomDistribution(start, end):\n",
    "    # The distribution function\n",
    "    _dist = {}\n",
    "    total = 0\n",
    "    for i in range(start, end):\n",
    "        gen = random.uniform(0, 1-total)\n",
    "        if gen >= (1-total) or gen < 0:\n",
    "            gen = random.uniform(0, 1-total)\n",
    "        total += gen\n",
    "        _dist[i] = gen\n",
    "    # Add in the final one\n",
    "    _dist[end] = 1-total\n",
    "        \n",
    "    def dist(x):\n",
    "        if x < start or x > end:\n",
    "            return 0\n",
    "        return _dist[x]\n",
    "    \n",
    "    return dist"
   ]
  },
  {
   "cell_type": "code",
   "execution_count": 28,
   "id": "002b300b",
   "metadata": {},
   "outputs": [
    {
     "ename": "AttributeError",
     "evalue": "module 'matplotlib.pyplot' has no attribute 'barplot'",
     "output_type": "error",
     "traceback": [
      "\u001b[0;31m---------------------------------------------------------------------------\u001b[0m",
      "\u001b[0;31mAttributeError\u001b[0m                            Traceback (most recent call last)",
      "Cell \u001b[0;32mIn[28], line 7\u001b[0m\n\u001b[1;32m      4\u001b[0m x \u001b[38;5;241m=\u001b[39m [i \u001b[38;5;28;01mfor\u001b[39;00m i \u001b[38;5;129;01min\u001b[39;00m \u001b[38;5;28mrange\u001b[39m(\u001b[38;5;241m0\u001b[39m,\u001b[38;5;241m4\u001b[39m)]\n\u001b[1;32m      5\u001b[0m y \u001b[38;5;241m=\u001b[39m [fn(i) \u001b[38;5;28;01mfor\u001b[39;00m i \u001b[38;5;129;01min\u001b[39;00m \u001b[38;5;28mrange\u001b[39m(\u001b[38;5;241m0\u001b[39m,\u001b[38;5;241m4\u001b[39m)]\n\u001b[0;32m----> 7\u001b[0m \u001b[43mplt\u001b[49m\u001b[38;5;241;43m.\u001b[39;49m\u001b[43mbarplot\u001b[49m(x, y)\n\u001b[1;32m      8\u001b[0m plt\u001b[38;5;241m.\u001b[39mshow()\n",
      "\u001b[0;31mAttributeError\u001b[0m: module 'matplotlib.pyplot' has no attribute 'barplot'"
     ]
    }
   ],
   "source": [
    "import matplotlib.pyplot as plt\n",
    "\n",
    "fn = randomDistribution(0,3)\n",
    "x = [i for i in range(0,4)]\n",
    "y = [fn(i) for i in range(0,4)]\n",
    "\n",
    "plt.barplot(x, y)\n",
    "plt.show()"
   ]
  },
  {
   "cell_type": "code",
   "execution_count": null,
   "id": "82de075c",
   "metadata": {},
   "outputs": [],
   "source": []
  }
 ],
 "metadata": {
  "kernelspec": {
   "display_name": "Python 3 (ipykernel)",
   "language": "python",
   "name": "python3"
  },
  "language_info": {
   "codemirror_mode": {
    "name": "ipython",
    "version": 3
   },
   "file_extension": ".py",
   "mimetype": "text/x-python",
   "name": "python",
   "nbconvert_exporter": "python",
   "pygments_lexer": "ipython3",
   "version": "3.10.6"
  }
 },
 "nbformat": 4,
 "nbformat_minor": 5
}
