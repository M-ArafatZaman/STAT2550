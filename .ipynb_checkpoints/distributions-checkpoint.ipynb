{
 "cells": [
  {
   "cell_type": "code",
   "execution_count": null,
   "id": "9583bab8",
   "metadata": {},
   "outputs": [],
   "source": [
    "import random\n",
    "\n",
    "# A function to get a discrete random distribution for a random variable\n",
    "def randomDistribution(start, end):\n",
    "    # The distribution function\n",
    "    _dist = {}\n",
    "#     total = 0\n",
    "#     for i in range(start, end):\n",
    "#         gen = 1-total\n",
    "#         gen = random.uniform(total, 1-total)\n",
    "#         total += gen\n",
    "#         _dist[i] = gen\n",
    "#     # Add in the final one\n",
    "#     _dist[end] = 1-total\n",
    "    print(_dist)\n",
    "            \n",
    "        \n",
    "    def dist(x):\n",
    "        pass\n",
    "\n",
    "randomDistribution(0,5)"
   ]
  },
  {
   "cell_type": "code",
   "execution_count": null,
   "id": "002b300b",
   "metadata": {},
   "outputs": [],
   "source": []
  }
 ],
 "metadata": {
  "kernelspec": {
   "display_name": "Python 3 (ipykernel)",
   "language": "python",
   "name": "python3"
  },
  "language_info": {
   "codemirror_mode": {
    "name": "ipython",
    "version": 3
   },
   "file_extension": ".py",
   "mimetype": "text/x-python",
   "name": "python",
   "nbconvert_exporter": "python",
   "pygments_lexer": "ipython3",
   "version": "3.10.6"
  }
 },
 "nbformat": 4,
 "nbformat_minor": 5
}
